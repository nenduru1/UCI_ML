{
 "cells": [
  {
   "cell_type": "code",
   "execution_count": null,
   "metadata": {
    "collapsed": false
   },
   "outputs": [],
   "source": [
    "import numpy as np\n",
    "import pandas as pd\n",
    "cols=['Class','Alcohol','Malic acid',\n",
    "'Ash',\n",
    "' Alcalinity of ash ' ,\n",
    "'Magnesium',\n",
    " 'Total phenols',\n",
    "'Flavanoids',\n",
    "'Nonflavanoid phenols',\n",
    "'Proanthocyanins',\n",
    "'Color intensity',\n",
    "'Hue',\n",
    "'OD280/OD315 of diluted wines',\n",
    "'Proline']\n",
    "url='http://archive.ics.uci.edu/ml/machine-learning-databases/wine/wine.data'\n",
    "data=pd.read_csv(url,sep=',',names=cols)\n",
    "print data.shape\n",
    "data.head()"
   ]
  },
  {
   "cell_type": "code",
   "execution_count": null,
   "metadata": {
    "collapsed": false
   },
   "outputs": [],
   "source": [
    "from sklearn.model_selection import train_test_split,cross_val_score"
   ]
  },
  {
   "cell_type": "code",
   "execution_count": null,
   "metadata": {
    "collapsed": false
   },
   "outputs": [],
   "source": [
    "X=data.iloc[:,1:].values\n",
    "y=data.iloc[:,:1].values\n",
    "X.shape,y.shape\n",
    "\n",
    "X_train,X_test,y_train,y_test=train_test_split(X,y,test_size=.3,random_state=0)"
   ]
  },
  {
   "cell_type": "code",
   "execution_count": null,
   "metadata": {
    "collapsed": false
   },
   "outputs": [],
   "source": [
    "from sklearn.linear_model import LogisticRegression\n",
    "reg=LogisticRegression()\n",
    "reg.fit(X_train,y_train)\n",
    "y_pred=reg.predict(X_test)"
   ]
  },
  {
   "cell_type": "code",
   "execution_count": null,
   "metadata": {
    "collapsed": false
   },
   "outputs": [],
   "source": [
    "from sklearn.metrics import confusion_matrix,classification_report,accuracy_score\n",
    "cm=confusion_matrix(y_test,y_pred)\n",
    "accuracy_score(y_test,y_pred)"
   ]
  },
  {
   "cell_type": "code",
   "execution_count": null,
   "metadata": {
    "collapsed": false
   },
   "outputs": [],
   "source": [
    "from sklearn.neighbors import KNeighborsClassifier\n",
    "reg_k=KNeighborsClassifier(n_neighbors=10,metric='minkowski',p=2)\n",
    "reg_k.fit(X_train,y_train)\n",
    "y_knn=reg_k.predict(X_test)\n",
    "accuracy_score(y_test,y_knn)"
   ]
  },
  {
   "cell_type": "code",
   "execution_count": null,
   "metadata": {
    "collapsed": false
   },
   "outputs": [],
   "source": [
    "from sklearn.svm import SVC\n",
    "reg_s=SVC(kernel='poly')\n",
    "reg_s.fit(X_train,y_train)\n",
    "y_svm=reg_s.predict(X_test)\n",
    "accuracy_score(y_test,y_svm)"
   ]
  },
  {
   "cell_type": "code",
   "execution_count": null,
   "metadata": {
    "collapsed": false
   },
   "outputs": [],
   "source": [
    "from sklearn.tree import DecisionTreeClassifier\n",
    "reg_t=DecisionTreeClassifier(criterion='entropy')\n",
    "reg_t.fit(X_train,y_train)\n",
    "y_tree=reg_t.predict(X_test)\n",
    "accuracy_score(y_test,y_tree)"
   ]
  },
  {
   "cell_type": "code",
   "execution_count": null,
   "metadata": {
    "collapsed": false
   },
   "outputs": [],
   "source": [
    "from sklearn.ensemble import RandomForestClassifier\n",
    "reg_t=RandomForestClassifier(n_estimators=10)\n",
    "reg_t.fit(X_train,y_train)\n",
    "y_tree=reg_t.predict(X_test)\n",
    "accuracy_score(y_test,y_tree)"
   ]
  },
  {
   "cell_type": "code",
   "execution_count": null,
   "metadata": {
    "collapsed": true
   },
   "outputs": [],
   "source": []
  }
 ],
 "metadata": {
  "kernelspec": {
   "display_name": "Python [default]",
   "language": "python",
   "name": "python2"
  },
  "language_info": {
   "codemirror_mode": {
    "name": "ipython",
    "version": 2
   },
   "file_extension": ".py",
   "mimetype": "text/x-python",
   "name": "python",
   "nbconvert_exporter": "python",
   "pygments_lexer": "ipython2",
   "version": "2.7.12"
  }
 },
 "nbformat": 4,
 "nbformat_minor": 1
}
